{
  "nbformat": 4,
  "nbformat_minor": 0,
  "metadata": {
    "colab": {
      "provenance": [],
      "authorship_tag": "ABX9TyM7LXaf9UxGMtMeCIvLMrLQ",
      "include_colab_link": true
    },
    "kernelspec": {
      "name": "python3",
      "display_name": "Python 3"
    },
    "language_info": {
      "name": "python"
    }
  },
  "cells": [
    {
      "cell_type": "markdown",
      "metadata": {
        "id": "view-in-github",
        "colab_type": "text"
      },
      "source": [
        "<a href=\"https://colab.research.google.com/github/samiul-hasan21/Google-collab-numpy-practice/blob/main/Numpy.ipynb\" target=\"_parent\"><img src=\"https://colab.research.google.com/assets/colab-badge.svg\" alt=\"Open In Colab\"/></a>"
      ]
    },
    {
      "cell_type": "code",
      "execution_count": 24,
      "metadata": {
        "id": "YSJz3tQDFas0"
      },
      "outputs": [],
      "source": [
        "import numpy as np"
      ]
    },
    {
      "cell_type": "code",
      "source": [
        "arr1=np.array([1,2,3,4,5])\n",
        "print(\"1D Array:\\n\",arr1)"
      ],
      "metadata": {
        "colab": {
          "base_uri": "https://localhost:8080/"
        },
        "id": "7nGwpXNWFwR2",
        "outputId": "ac9abee5-1c4e-412c-b1bf-1d7d02e8ef4b"
      },
      "execution_count": 25,
      "outputs": [
        {
          "output_type": "stream",
          "name": "stdout",
          "text": [
            "1D Array:\n",
            " [1 2 3 4 5]\n"
          ]
        }
      ]
    },
    {
      "cell_type": "code",
      "source": [
        "arr2 = np.array([[1, 2, 3], [4, 5, 6]])\n",
        "print(\"2D Array:\\n\", arr2)"
      ],
      "metadata": {
        "colab": {
          "base_uri": "https://localhost:8080/"
        },
        "id": "IOvqONwEGbpK",
        "outputId": "970a9b55-a823-41d2-f8c3-044063e5167e"
      },
      "execution_count": 26,
      "outputs": [
        {
          "output_type": "stream",
          "name": "stdout",
          "text": [
            "2D Array:\n",
            " [[1 2 3]\n",
            " [4 5 6]]\n"
          ]
        }
      ]
    },
    {
      "cell_type": "code",
      "source": [
        "arr3 = np.array([[[1, 2], [3, 4]], [[5, 6], [7, 8]]])\n",
        "print(\"3D Array:\\n\", arr3)"
      ],
      "metadata": {
        "colab": {
          "base_uri": "https://localhost:8080/"
        },
        "id": "5VEr8zRrGe_u",
        "outputId": "72260235-6f96-49e5-8e5a-d3c6a2411df4"
      },
      "execution_count": 27,
      "outputs": [
        {
          "output_type": "stream",
          "name": "stdout",
          "text": [
            "3D Array:\n",
            " [[[1 2]\n",
            "  [3 4]]\n",
            "\n",
            " [[5 6]\n",
            "  [7 8]]]\n"
          ]
        }
      ]
    },
    {
      "cell_type": "markdown",
      "source": [
        "Arrays Using Different Techniques:"
      ],
      "metadata": {
        "id": "6F2vagviIEzk"
      }
    },
    {
      "cell_type": "code",
      "source": [
        "zeros_arr = np.zeros((3,3))\n",
        "ones_arr = np.ones((2,4))\n",
        "range_arr = np.arange(0, 10, 2)\n",
        "linspace_arr = np.linspace(0, 1, 5)\n",
        "random_arr = np.random.rand(3,3)\n",
        "identity_arr = np.eye(4)"
      ],
      "metadata": {
        "id": "R0gYkzi8Gpu9"
      },
      "execution_count": 28,
      "outputs": []
    },
    {
      "cell_type": "markdown",
      "source": [
        "Some Array Properties:"
      ],
      "metadata": {
        "id": "KGcEsNNxIKyY"
      }
    },
    {
      "cell_type": "code",
      "source": [
        "print(\"Shape:\", arr2.shape)\n",
        "print(\"Dimension (ndim):\", arr2.ndim)\n",
        "print(\"Data type:\", arr2.dtype)\n",
        "print(\"Size (total elements):\", arr2.size)\n",
        "print(\"Item size (bytes):\", arr2.itemsize)"
      ],
      "metadata": {
        "colab": {
          "base_uri": "https://localhost:8080/"
        },
        "id": "hMzgDOBCG5Sv",
        "outputId": "7403e891-66f8-45ec-97c7-d2e84874a350"
      },
      "execution_count": 29,
      "outputs": [
        {
          "output_type": "stream",
          "name": "stdout",
          "text": [
            "Shape: (2, 3)\n",
            "Dimension (ndim): 2\n",
            "Data type: int64\n",
            "Size (total elements): 6\n",
            "Item size (bytes): 8\n"
          ]
        }
      ]
    },
    {
      "cell_type": "markdown",
      "source": [
        "Some Array Operations"
      ],
      "metadata": {
        "id": "mohzd0WcIPz_"
      }
    },
    {
      "cell_type": "code",
      "source": [
        "a = np.array([10, 20, 30])\n",
        "b = np.array([1, 2, 3])\n",
        "\n",
        "print(\"Addition:\", a + b)\n",
        "print(\"Subtraction:\", a - b)\n",
        "print(\"Multiplication:\", a * b)\n",
        "print(\"Division:\", a / b)"
      ],
      "metadata": {
        "colab": {
          "base_uri": "https://localhost:8080/"
        },
        "id": "GsKYOIR7G8Y2",
        "outputId": "3f3691eb-250f-4721-ccbc-2b03a5ca3af3"
      },
      "execution_count": 30,
      "outputs": [
        {
          "output_type": "stream",
          "name": "stdout",
          "text": [
            "Addition: [11 22 33]\n",
            "Subtraction: [ 9 18 27]\n",
            "Multiplication: [10 40 90]\n",
            "Division: [10. 10. 10.]\n"
          ]
        }
      ]
    },
    {
      "cell_type": "markdown",
      "source": [
        "Some Matrix Operations"
      ],
      "metadata": {
        "id": "Rm7NlyCiIRo9"
      }
    },
    {
      "cell_type": "code",
      "source": [
        "mat1 = np.array([[1, 2], [3, 4]])\n",
        "mat2 = np.array([[5, 6], [7, 8]])\n",
        "\n",
        "print(\"Matrix Multiplication:\\n\", np.dot(mat1, mat2))\n",
        "print(\"Transpose:\\n\", mat1.T)"
      ],
      "metadata": {
        "colab": {
          "base_uri": "https://localhost:8080/"
        },
        "id": "EUIObaSYHMCe",
        "outputId": "4c79f90c-c868-4774-8047-c8ac03c95579"
      },
      "execution_count": 31,
      "outputs": [
        {
          "output_type": "stream",
          "name": "stdout",
          "text": [
            "Matrix Multiplication:\n",
            " [[19 22]\n",
            " [43 50]]\n",
            "Transpose:\n",
            " [[1 3]\n",
            " [2 4]]\n"
          ]
        }
      ]
    },
    {
      "cell_type": "markdown",
      "source": [
        "Indexing & Slicing 1D:"
      ],
      "metadata": {
        "id": "cPYTZMLcIYW7"
      }
    },
    {
      "cell_type": "code",
      "source": [
        "arr = np.array([10, 20, 30, 40, 50])\n",
        "print(\"First element:\", arr[0])\n",
        "print(\"Slice (2nd to 4th):\", arr[1:4])\n",
        "print(\"Step slicing:\", arr[::2])"
      ],
      "metadata": {
        "colab": {
          "base_uri": "https://localhost:8080/"
        },
        "id": "4AOQZNfqHhn-",
        "outputId": "0227d089-6eea-42b2-98aa-550ea2b2062e"
      },
      "execution_count": 32,
      "outputs": [
        {
          "output_type": "stream",
          "name": "stdout",
          "text": [
            "First element: 10\n",
            "Slice (2nd to 4th): [20 30 40]\n",
            "Step slicing: [10 30 50]\n"
          ]
        }
      ]
    },
    {
      "cell_type": "markdown",
      "source": [
        "for 2D:"
      ],
      "metadata": {
        "id": "ek-TmYY1Hsrm"
      }
    },
    {
      "cell_type": "code",
      "source": [
        "print(\"Element at (1,2):\", arr2[1,2])\n",
        "print(\"Row 0:\", arr2[0,:])\n",
        "print(\"Column 1:\", arr2[:,1])"
      ],
      "metadata": {
        "colab": {
          "base_uri": "https://localhost:8080/"
        },
        "id": "0EncIEYsHpVu",
        "outputId": "af83816d-4d3d-4ef4-8b1a-38c4bf039d48"
      },
      "execution_count": 33,
      "outputs": [
        {
          "output_type": "stream",
          "name": "stdout",
          "text": [
            "Element at (1,2): 6\n",
            "Row 0: [1 2 3]\n",
            "Column 1: [2 5]\n"
          ]
        }
      ]
    },
    {
      "cell_type": "markdown",
      "source": [
        "Functions in NumPy"
      ],
      "metadata": {
        "id": "vU8epWn6Hz9P"
      }
    },
    {
      "cell_type": "code",
      "source": [
        "arr = np.array([1, 2, 3, 4, 5])\n",
        "\n",
        "print(\"Sum:\", np.sum(arr))\n",
        "print(\"Mean:\", np.mean(arr))\n",
        "print(\"Standard Deviation:\", np.std(arr))\n",
        "print(\"Min:\", np.min(arr))\n",
        "print(\"Max:\", np.max(arr))\n",
        "print(\"Square Root:\", np.sqrt(arr))\n"
      ],
      "metadata": {
        "colab": {
          "base_uri": "https://localhost:8080/"
        },
        "id": "A5_vRG8QHzgc",
        "outputId": "82c1b5e0-be6d-430a-eee4-44f6f2730e95"
      },
      "execution_count": 34,
      "outputs": [
        {
          "output_type": "stream",
          "name": "stdout",
          "text": [
            "Sum: 15\n",
            "Mean: 3.0\n",
            "Standard Deviation: 1.4142135623730951\n",
            "Min: 1\n",
            "Max: 5\n",
            "Square Root: [1.         1.41421356 1.73205081 2.         2.23606798]\n"
          ]
        }
      ]
    }
  ]
}